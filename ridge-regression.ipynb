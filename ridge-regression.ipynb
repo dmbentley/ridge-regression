{
 "cells": [
  {
   "cell_type": "markdown",
   "metadata": {},
   "source": [
    "$L(w) = \\Sigma_{i} (y^{(i)} - w \\cdot x^{(i)})^2 + C\\| w \\|^2$\n",
    "\n",
    "$L(w) = \\Sigma_{i} (y^{(i)} - (w_1 x_1^{(i)} + ... + w_d x_d^{(i)}))^2 \\ + C(w_1^2 + ... + w_d^2 )$\n",
    "\n",
    "$\\frac{\\partial L}{\\partial w_{i}}$"
   ]
  },
  {
   "cell_type": "code",
   "execution_count": 120,
   "metadata": {},
   "outputs": [],
   "source": [
    "import numpy as np\n",
    "import matplotlib.pyplot as plt\n",
    "\n",
    "from sklearn.linear_model import LinearRegression, Ridge\n"
   ]
  },
  {
   "cell_type": "code",
   "execution_count": 2,
   "metadata": {},
   "outputs": [],
   "source": [
    "def generate_data(number_of_points, number_of_dimensions):\n",
    "    \n",
    "    w = np.zeros(number_of_dimensions)\n",
    "\n",
    "    # Make the first 10 components of w equal to one.\n",
    "    for i in range(10):\n",
    "        w[i]=1\n",
    "\n",
    "    X_train = np.random.normal(size=(number_of_points, number_of_dimensions)) \n",
    "    \n",
    "    y_train = np.dot(X_train, w) + np.random.normal(size = number_of_points)\n",
    "    \n",
    "        \n",
    "    return X_train, y_train"
   ]
  },
  {
   "cell_type": "code",
   "execution_count": 3,
   "metadata": {},
   "outputs": [],
   "source": [
    "X_train, y_train = generate_data(number_of_points=200, number_of_dimensions=100)"
   ]
  },
  {
   "cell_type": "code",
   "execution_count": 4,
   "metadata": {},
   "outputs": [],
   "source": [
    "reg = LinearRegression().fit(X_train, y_train)"
   ]
  },
  {
   "cell_type": "code",
   "execution_count": 5,
   "metadata": {},
   "outputs": [
    {
     "data": {
      "text/plain": [
       "array([ 1.07947691,  1.02472324,  0.77557997,  0.97652864,  1.03810482,\n",
       "        0.9080946 ,  0.80019201,  1.03404162,  1.11622314,  1.08324202,\n",
       "        0.06005146,  0.1255026 ,  0.01278837, -0.02675301,  0.03375272,\n",
       "        0.05257514, -0.12369907,  0.08994258,  0.09688399,  0.12310538,\n",
       "       -0.02305153, -0.03631051,  0.0725124 , -0.10588341, -0.15893655,\n",
       "       -0.09966769,  0.05320987,  0.12618798,  0.09190746,  0.11187016,\n",
       "       -0.19551094,  0.00851033,  0.10292589,  0.08529158,  0.07743177,\n",
       "        0.00131227,  0.13219167,  0.11493146, -0.00390728, -0.00268338,\n",
       "       -0.12320393,  0.07848236,  0.11999966, -0.09537664, -0.07992152,\n",
       "       -0.12158079,  0.13181112,  0.14342839, -0.10479641, -0.07482335,\n",
       "       -0.09125584,  0.05282545,  0.1874368 , -0.00231895,  0.01526754,\n",
       "        0.10825063,  0.02691972, -0.10979587,  0.06638585,  0.0707537 ,\n",
       "       -0.06939227, -0.0318356 ,  0.26871182, -0.10158283,  0.06113162,\n",
       "       -0.00344694,  0.09940349, -0.19925547,  0.00762673,  0.04385875,\n",
       "       -0.18350498, -0.04805216, -0.08634879, -0.04220111, -0.14372115,\n",
       "        0.00432935, -0.17606135,  0.07937494,  0.0306701 ,  0.11452685,\n",
       "        0.0029766 , -0.08942481, -0.07116114,  0.17957152,  0.07465808,\n",
       "        0.02444074, -0.08737415,  0.23850009, -0.08600979,  0.17848955,\n",
       "       -0.01788736,  0.03541292, -0.01475034,  0.03894282, -0.16494987,\n",
       "        0.12597329,  0.04427433, -0.07097178,  0.01370309, -0.03553957])"
      ]
     },
     "execution_count": 5,
     "metadata": {},
     "output_type": "execute_result"
    }
   ],
   "source": [
    "reg.coef_ "
   ]
  },
  {
   "cell_type": "code",
   "execution_count": 6,
   "metadata": {},
   "outputs": [
    {
     "data": {
      "text/plain": [
       "0.01079549683615233"
      ]
     },
     "execution_count": 6,
     "metadata": {},
     "output_type": "execute_result"
    }
   ],
   "source": [
    "reg.intercept_ "
   ]
  },
  {
   "cell_type": "markdown",
   "metadata": {},
   "source": [
    "# Using Skikit Learn Ridge Regression"
   ]
  },
  {
   "cell_type": "code",
   "execution_count": 7,
   "metadata": {},
   "outputs": [],
   "source": [
    "reg = Ridge(alpha=10)"
   ]
  },
  {
   "cell_type": "code",
   "execution_count": 8,
   "metadata": {},
   "outputs": [
    {
     "data": {
      "text/plain": [
       "Ridge(alpha=10, copy_X=True, fit_intercept=True, max_iter=None,\n",
       "   normalize=False, random_state=None, solver='auto', tol=0.001)"
      ]
     },
     "execution_count": 8,
     "metadata": {},
     "output_type": "execute_result"
    }
   ],
   "source": [
    "reg.fit(X_train, y_train)"
   ]
  },
  {
   "cell_type": "code",
   "execution_count": 9,
   "metadata": {},
   "outputs": [
    {
     "data": {
      "text/plain": [
       "array([ 9.90963388e-01,  9.27614873e-01,  6.75435502e-01,  9.21435927e-01,\n",
       "        9.09409673e-01,  8.61905776e-01,  7.29872785e-01,  9.16494815e-01,\n",
       "        9.66307259e-01,  1.00166399e+00,  3.80619139e-02,  6.49729130e-02,\n",
       "       -4.07850262e-03, -5.46242550e-02,  7.22593735e-02,  8.07572155e-02,\n",
       "       -1.44745621e-01,  5.97435423e-02,  9.82971627e-02,  1.14265531e-01,\n",
       "       -2.42573400e-02, -3.01433572e-02,  4.50049405e-02, -5.51326505e-02,\n",
       "       -1.54549290e-01, -3.07592621e-02,  1.67613337e-02,  1.06684376e-01,\n",
       "        7.97644237e-02,  8.23575346e-02, -1.86942499e-01, -3.53661937e-02,\n",
       "        6.84652675e-02,  3.98739646e-02,  6.46051367e-02, -6.40708383e-03,\n",
       "        7.92119514e-02,  8.73108000e-02, -5.74195335e-02, -6.84970247e-03,\n",
       "       -1.31054987e-01,  8.82675252e-02,  9.35194623e-02, -5.01912755e-02,\n",
       "       -7.92675764e-02, -1.43739438e-01,  9.65593597e-02,  1.08908235e-01,\n",
       "       -7.99679317e-02, -8.12698370e-02, -6.09232078e-02,  2.23109596e-02,\n",
       "        1.54111321e-01,  5.18006075e-02,  3.57087069e-02,  1.61422845e-01,\n",
       "        7.51905990e-02, -9.62734511e-02,  6.24916607e-02, -3.68846493e-04,\n",
       "       -5.54798536e-02, -2.53848096e-02,  2.83679026e-01, -9.15600304e-02,\n",
       "        1.08055028e-01, -3.98508854e-03,  1.04542713e-01, -1.68619802e-01,\n",
       "        1.22579901e-02,  1.15362203e-01, -1.67980136e-01, -3.93494591e-02,\n",
       "       -7.63845088e-02, -2.66606634e-03, -1.33932502e-01, -3.83064529e-02,\n",
       "       -1.76566295e-01,  6.29529513e-02, -3.34601060e-02,  8.96569553e-02,\n",
       "        1.55402634e-02, -6.73152946e-02, -4.69698023e-02,  1.69777294e-01,\n",
       "        6.96544130e-02,  1.94975746e-02, -9.72308807e-02,  2.28122467e-01,\n",
       "       -7.99125212e-02,  1.23477948e-01, -3.52353355e-03,  1.43075259e-02,\n",
       "       -3.84618876e-03,  6.53492388e-02, -9.88858930e-02,  6.58783759e-02,\n",
       "        2.57429213e-02, -7.15500710e-02,  3.98849508e-02, -3.92192201e-02])"
      ]
     },
     "execution_count": 9,
     "metadata": {},
     "output_type": "execute_result"
    }
   ],
   "source": [
    "reg.coef_"
   ]
  },
  {
   "cell_type": "code",
   "execution_count": 143,
   "metadata": {},
   "outputs": [
    {
     "data": {
      "text/plain": [
       "0.033936592699536694"
      ]
     },
     "execution_count": 143,
     "metadata": {},
     "output_type": "execute_result"
    }
   ],
   "source": [
    "reg.intercept_"
   ]
  },
  {
   "cell_type": "markdown",
   "metadata": {},
   "source": [
    " ## Using gradient descent"
   ]
  },
  {
   "cell_type": "code",
   "execution_count": 10,
   "metadata": {},
   "outputs": [],
   "source": [
    "def ridge_regression_GD(x,y,C):\n",
    "        \n",
    "        \n",
    "    return w,b,losses"
   ]
  },
  {
   "cell_type": "code",
   "execution_count": 11,
   "metadata": {},
   "outputs": [],
   "source": [
    "#def compute_loss_function(x, y, w, b, C):\n",
    "    \n",
    "#    summation = 0\n",
    "    \n",
    "#   for index, point in enumerate(x):\n",
    "        \n",
    "        #summation += y[index] -\n",
    "        \n",
    "    \n",
    "        #L = C * np.dot(w,w) + \n",
    "    \n",
    "#    return"
   ]
  },
  {
   "cell_type": "code",
   "execution_count": 12,
   "metadata": {},
   "outputs": [],
   "source": [
    "def update_bias(x,y,w,b,eta):\n",
    "\n",
    "    summation = 0\n",
    "    \n",
    "    for index, point in enumerate(x):\n",
    "        \n",
    "        summation += -2*(y[index] - np.dot(w,point) - b)\n",
    "\n",
    "    new_bias = b - eta*summation\n",
    "    \n",
    "    return new_bias"
   ]
  },
  {
   "cell_type": "code",
   "execution_count": 88,
   "metadata": {},
   "outputs": [],
   "source": [
    "def update_weights(x,y,w,b,C,eta):\n",
    "    \n",
    "    new_weights = np.zeros(len(w))\n",
    "    \n",
    "    for index_weight, weight in enumerate(w):\n",
    "    \n",
    "        summation = 0\n",
    "    \n",
    "        for index_point, point in enumerate(x):\n",
    "        \n",
    "            summation += -2*x[index_point, index_weight]*(y[index_point] - np.dot(w,point) - b)\n",
    "\n",
    "        new_weights[index_weight] = w[index_weight] - eta*(2*C*w[index_weight]+summation)\n",
    "    \n",
    "    return new_weights"
   ]
  },
  {
   "cell_type": "code",
   "execution_count": 149,
   "metadata": {},
   "outputs": [],
   "source": [
    "def loss(x,y,w,b,C):\n",
    "    \n",
    "    summation = 0\n",
    "\n",
    "    for index, point in enumerate(x):\n",
    "        \n",
    "        summation += (y[index] - np.dot(w,point) - b)**2\n",
    "\n",
    "    loss = C*np.dot(w,w) + summation\n",
    "\n",
    "    return loss\n",
    "    \n",
    "    "
   ]
  },
  {
   "cell_type": "code",
   "execution_count": 89,
   "metadata": {},
   "outputs": [],
   "source": [
    "X_train, y_train = generate_data(number_of_points=200, number_of_dimensions=100)"
   ]
  },
  {
   "cell_type": "code",
   "execution_count": 154,
   "metadata": {},
   "outputs": [],
   "source": [
    "w = np.zeros(100)\n",
    "b = 10\n",
    "C = 10\n",
    "eta = 0.0001\n",
    "loss = []\n",
    "\n",
    "\n",
    "for dummy in range(2000):\n",
    "    new_bias = update_bias(X_train,y_train,w,b,eta)\n",
    "    new_weights = update_weights(X_train,y_train,w,b,C,eta)\n",
    "    b = new_bias\n",
    "    w = new_weights\n",
    "    \n",
    "    summation = 0 \n",
    "    \n",
    "    for index, point in enumerate(X_train):\n",
    "        \n",
    "        summation += (y_train[index] - np.dot(w,point) - b)**2\n",
    "\n",
    "    l = C*np.dot(w,w) + summation\n",
    "    _\n",
    "    loss.append(l)\n"
   ]
  },
  {
   "cell_type": "code",
   "execution_count": 155,
   "metadata": {},
   "outputs": [
    {
     "data": {
      "text/plain": [
       "[<matplotlib.lines.Line2D at 0x7f6f11937048>]"
      ]
     },
     "execution_count": 155,
     "metadata": {},
     "output_type": "execute_result"
    },
    {
     "data": {
      "image/png": "[encoded data removed]",
      "text/plain": [
       "<Figure size 432x288 with 1 Axes>"
      ]
     },
     "metadata": {
      "needs_background": "light"
     },
     "output_type": "display_data"
    }
   ],
   "source": [
    "plt.plot(range(2000),loss)"
   ]
  },
  {
   "cell_type": "code",
   "execution_count": 156,
   "metadata": {},
   "outputs": [
    {
     "ename": "TypeError",
     "evalue": "'list' object is not callable",
     "output_type": "error",
     "traceback": [
      "\u001b[0;31m---------------------------------------------------------------------------\u001b[0m",
      "\u001b[0;31mTypeError\u001b[0m                                 Traceback (most recent call last)",
      "\u001b[0;32m<ipython-input-156-e3897c0d62df>\u001b[0m in \u001b[0;36m<module>\u001b[0;34m\u001b[0m\n\u001b[1;32m      2\u001b[0m \u001b[0mreg\u001b[0m\u001b[0;34m.\u001b[0m\u001b[0mfit\u001b[0m\u001b[0;34m(\u001b[0m\u001b[0mX_train\u001b[0m\u001b[0;34m,\u001b[0m \u001b[0my_train\u001b[0m\u001b[0;34m)\u001b[0m\u001b[0;34m\u001b[0m\u001b[0;34m\u001b[0m\u001b[0m\n\u001b[1;32m      3\u001b[0m \u001b[0;34m\u001b[0m\u001b[0m\n\u001b[0;32m----> 4\u001b[0;31m \u001b[0mloss\u001b[0m\u001b[0;34m(\u001b[0m\u001b[0mX_train\u001b[0m\u001b[0;34m,\u001b[0m\u001b[0my_train\u001b[0m\u001b[0;34m,\u001b[0m\u001b[0mreg\u001b[0m\u001b[0;34m.\u001b[0m\u001b[0mcoef_\u001b[0m \u001b[0;34m,\u001b[0m\u001b[0mreg\u001b[0m\u001b[0;34m.\u001b[0m\u001b[0mintercept_\u001b[0m\u001b[0;34m,\u001b[0m\u001b[0mC\u001b[0m\u001b[0;34m=\u001b[0m\u001b[0;36m10\u001b[0m\u001b[0;34m)\u001b[0m\u001b[0;34m\u001b[0m\u001b[0;34m\u001b[0m\u001b[0m\n\u001b[0m",
      "\u001b[0;31mTypeError\u001b[0m: 'list' object is not callable"
     ]
    }
   ],
   "source": [
    "reg = Ridge(alpha=10)\n",
    "reg.fit(X_train, y_train)\n",
    "\n",
    "loss(X_train,y_train,reg.coef_ ,reg.intercept_,C=10)"
   ]
  },
  {
   "cell_type": "code",
   "execution_count": null,
   "metadata": {},
   "outputs": [],
   "source": [
    "np.linalg.norm(w-reg.coef_)"
   ]
  },
  {
   "cell_type": "code",
   "execution_count": 157,
   "metadata": {},
   "outputs": [
    {
     "ename": "ModuleNotFoundError",
     "evalue": "No module named 'lightgbm'",
     "output_type": "error",
     "traceback": [
      "\u001b[0;31m---------------------------------------------------------------------------\u001b[0m",
      "\u001b[0;31mModuleNotFoundError\u001b[0m                       Traceback (most recent call last)",
      "\u001b[0;32m<ipython-input-157-5dacb4a27011>\u001b[0m in \u001b[0;36m<module>\u001b[0;34m\u001b[0m\n\u001b[0;32m----> 1\u001b[0;31m \u001b[0;32mimport\u001b[0m \u001b[0mlightgbm\u001b[0m \u001b[0;32mas\u001b[0m \u001b[0mlgb\u001b[0m\u001b[0;34m\u001b[0m\u001b[0;34m\u001b[0m\u001b[0m\n\u001b[0m",
      "\u001b[0;31mModuleNotFoundError\u001b[0m: No module named 'lightgbm'"
     ]
    }
   ],
   "source": [
    "import lightgbm as lgb"
   ]
  },
  {
   "cell_type": "code",
   "execution_count": null,
   "metadata": {},
   "outputs": [],
   "source": []
  }
 ],
 "metadata": {
  "kernelspec": {
   "display_name": "Python 3",
   "language": "python",
   "name": "python3"
  },
  "language_info": {
   "codemirror_mode": {
    "name": "ipython",
    "version": 3
   },
   "file_extension": ".py",
   "mimetype": "text/x-python",
   "name": "python",
   "nbconvert_exporter": "python",
   "pygments_lexer": "ipython3",
   "version": "3.7.1"
  }
 },
 "nbformat": 4,
 "nbformat_minor": 2
}
